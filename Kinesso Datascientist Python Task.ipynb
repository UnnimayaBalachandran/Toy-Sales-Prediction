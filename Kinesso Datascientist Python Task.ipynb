{
 "cells": [
  {
   "cell_type": "markdown",
   "metadata": {},
   "source": [
    "## KINESSO Datascientist Python Task"
   ]
  },
  {
   "cell_type": "markdown",
   "metadata": {},
   "source": [
    "### Toy Sales Prediction - Regression Model"
   ]
  },
  {
   "cell_type": "code",
   "execution_count": null,
   "metadata": {},
   "outputs": [],
   "source": [
    "__author__ = \"Unnimaya Balachandran\"\n",
    "__email__ = \"unnimayabudayam@gmail.com\""
   ]
  },
  {
   "cell_type": "markdown",
   "metadata": {},
   "source": [
    "#### Task 1 : Import the sales data into Python"
   ]
  },
  {
   "cell_type": "code",
   "execution_count": 23,
   "metadata": {},
   "outputs": [
    {
     "data": {
      "text/html": [
       "<div>\n",
       "<style scoped>\n",
       "    .dataframe tbody tr th:only-of-type {\n",
       "        vertical-align: middle;\n",
       "    }\n",
       "\n",
       "    .dataframe tbody tr th {\n",
       "        vertical-align: top;\n",
       "    }\n",
       "\n",
       "    .dataframe thead th {\n",
       "        text-align: right;\n",
       "    }\n",
       "</style>\n",
       "<table border=\"1\" class=\"dataframe\">\n",
       "  <thead>\n",
       "    <tr style=\"text-align: right;\">\n",
       "      <th></th>\n",
       "      <th>month</th>\n",
       "      <th>sales</th>\n",
       "      <th>tv_spend</th>\n",
       "      <th>digital_spend</th>\n",
       "      <th>trend</th>\n",
       "      <th>xmas</th>\n",
       "    </tr>\n",
       "  </thead>\n",
       "  <tbody>\n",
       "    <tr>\n",
       "      <th>0</th>\n",
       "      <td>2016-01-01</td>\n",
       "      <td>3700000</td>\n",
       "      <td>600000.0</td>\n",
       "      <td>300000.0</td>\n",
       "      <td>1</td>\n",
       "      <td>0</td>\n",
       "    </tr>\n",
       "    <tr>\n",
       "      <th>1</th>\n",
       "      <td>2016-02-01</td>\n",
       "      <td>8900000</td>\n",
       "      <td>2880000.0</td>\n",
       "      <td>90000.0</td>\n",
       "      <td>2</td>\n",
       "      <td>0</td>\n",
       "    </tr>\n",
       "    <tr>\n",
       "      <th>2</th>\n",
       "      <td>2016-03-01</td>\n",
       "      <td>8200000</td>\n",
       "      <td>864000.0</td>\n",
       "      <td>427000.0</td>\n",
       "      <td>3</td>\n",
       "      <td>0</td>\n",
       "    </tr>\n",
       "    <tr>\n",
       "      <th>3</th>\n",
       "      <td>2016-04-01</td>\n",
       "      <td>5800000</td>\n",
       "      <td>259200.0</td>\n",
       "      <td>128100.0</td>\n",
       "      <td>4</td>\n",
       "      <td>0</td>\n",
       "    </tr>\n",
       "    <tr>\n",
       "      <th>4</th>\n",
       "      <td>2016-05-01</td>\n",
       "      <td>11000000</td>\n",
       "      <td>2077760.0</td>\n",
       "      <td>538430.0</td>\n",
       "      <td>5</td>\n",
       "      <td>0</td>\n",
       "    </tr>\n",
       "  </tbody>\n",
       "</table>\n",
       "</div>"
      ],
      "text/plain": [
       "       month     sales   tv_spend  digital_spend  trend  xmas\n",
       "0 2016-01-01   3700000   600000.0       300000.0      1     0\n",
       "1 2016-02-01   8900000  2880000.0        90000.0      2     0\n",
       "2 2016-03-01   8200000   864000.0       427000.0      3     0\n",
       "3 2016-04-01   5800000   259200.0       128100.0      4     0\n",
       "4 2016-05-01  11000000  2077760.0       538430.0      5     0"
      ]
     },
     "execution_count": 23,
     "metadata": {},
     "output_type": "execute_result"
    }
   ],
   "source": [
    "#import pandas library\n",
    "import pandas as pd\n",
    "#import numpy library\n",
    "import numpy as np\n",
    "#import the excel file toy_sales_data\n",
    "df = pd.read_excel(\"toy_sales_data.xlsx\")\n",
    "#Check the structure of the data\n",
    "df.head()"
   ]
  },
  {
   "cell_type": "code",
   "execution_count": 24,
   "metadata": {},
   "outputs": [
    {
     "data": {
      "text/plain": [
       "(24, 6)"
      ]
     },
     "execution_count": 24,
     "metadata": {},
     "output_type": "execute_result"
    }
   ],
   "source": [
    "df.shape"
   ]
  },
  {
   "cell_type": "code",
   "execution_count": 9,
   "metadata": {},
   "outputs": [
    {
     "name": "stdout",
     "output_type": "stream",
     "text": [
      "<class 'pandas.core.frame.DataFrame'>\n",
      "RangeIndex: 24 entries, 0 to 23\n",
      "Data columns (total 6 columns):\n",
      " #   Column         Non-Null Count  Dtype         \n",
      "---  ------         --------------  -----         \n",
      " 0   month          24 non-null     datetime64[ns]\n",
      " 1   sales          24 non-null     int64         \n",
      " 2   tv_spend       24 non-null     float64       \n",
      " 3   digital_spend  24 non-null     float64       \n",
      " 4   trend          24 non-null     int64         \n",
      " 5   xmas           24 non-null     int64         \n",
      "dtypes: datetime64[ns](1), float64(2), int64(3)\n",
      "memory usage: 1.2 KB\n"
     ]
    }
   ],
   "source": [
    "#To understand length and data types\n",
    "df.info()"
   ]
  },
  {
   "cell_type": "code",
   "execution_count": 11,
   "metadata": {},
   "outputs": [
    {
     "data": {
      "text/plain": [
       "month            0\n",
       "sales            0\n",
       "tv_spend         0\n",
       "digital_spend    0\n",
       "trend            0\n",
       "xmas             0\n",
       "dtype: int64"
      ]
     },
     "execution_count": 11,
     "metadata": {},
     "output_type": "execute_result"
    }
   ],
   "source": [
    "#To check if any values are missing\n",
    "df.isnull().sum()"
   ]
  },
  {
   "cell_type": "markdown",
   "metadata": {},
   "source": [
    "From the above analysis, it is clear that toy sales data is small and clean"
   ]
  },
  {
   "cell_type": "markdown",
   "metadata": {},
   "source": [
    "#### Task 2: Create a plot of sales, TV investment and Digital investment in the y axis with time in the x axis### "
   ]
  },
  {
   "cell_type": "code",
   "execution_count": 15,
   "metadata": {},
   "outputs": [
    {
     "data": {
      "image/png": "[encoded data removed]",
      "text/plain": [
       "<Figure size 864x432 with 1 Axes>"
      ]
     },
     "metadata": {},
     "output_type": "display_data"
    }
   ],
   "source": [
    "#Import matplotlib library to create visualisations\n",
    "import matplotlib.pyplot as plt\n",
    "from matplotlib.dates import DateFormatter\n",
    "\n",
    "# Convert 'month' to datetime\n",
    "try:\n",
    "    df['month'] = pd.to_datetime(df['month'], format='%b-%y')\n",
    "except ValueError as e:\n",
    "    print(\"Error converting 'month' column to datetime: \", e)\n",
    "\n",
    "# Plotting\n",
    "plt.figure(figsize=(12, 6), facecolor='white')\n",
    "plt.plot(df['month'], df['sales'], label='Sales', marker='o')\n",
    "plt.plot(df['month'], df['tv_spend'], label='TV Investment', marker='o')\n",
    "plt.plot(df['month'], df['digital_spend'], label='Digital Investment', marker='o')\n",
    "\n",
    "# Formatting the plot for better clarity\n",
    "plt.gca().xaxis.set_major_formatter(DateFormatter('%b-%y'))\n",
    "plt.xticks(rotation=45)\n",
    "plt.title('Sales and Investment Over Time')\n",
    "plt.xlabel('Month')\n",
    "plt.ylabel('Amount')\n",
    "plt.legend()\n",
    "plt.grid(True)\n",
    "plt.tight_layout()\n",
    "plt.show()"
   ]
  },
  {
   "cell_type": "markdown",
   "metadata": {},
   "source": [
    "#### Task 3 : Report the correlations among sales, TV and Digital investment "
   ]
  },
  {
   "cell_type": "markdown",
   "metadata": {},
   "source": [
    "From the data we can see that:\n",
    "* sales is the dependent variable (Label)\n",
    "* TV spend and digital spend are independent variables (Features)"
   ]
  },
  {
   "cell_type": "code",
   "execution_count": 16,
   "metadata": {},
   "outputs": [
    {
     "name": "stdout",
     "output_type": "stream",
     "text": [
      "                  sales  tv_spend  digital_spend\n",
      "sales          1.000000  0.440686       0.664765\n",
      "tv_spend       0.440686  1.000000       0.072059\n",
      "digital_spend  0.664765  0.072059       1.000000\n"
     ]
    }
   ],
   "source": [
    "# Calculate the correlation matrix\n",
    "corr_matrix = df[['sales', 'tv_spend', 'digital_spend']].corr()\n",
    "print(corr_matrix)"
   ]
  },
  {
   "cell_type": "code",
   "execution_count": 20,
   "metadata": {},
   "outputs": [
    {
     "data": {
      "image/png": "[encoded data removed]",
      "text/plain": [
       "<Figure size 432x288 with 2 Axes>"
      ]
     },
     "metadata": {
      "needs_background": "light"
     },
     "output_type": "display_data"
    }
   ],
   "source": [
    "#Heatmap plot\n",
    "import seaborn as sns\n",
    "ax = sns.heatmap(df[['sales','tv_spend','digital_spend']].corr(), annot=True, cmap='Greens')\n",
    "bottom, top = ax.get_ylim()\n",
    "ax.set_ylim(bottom + 0.5, top - 0.5)\n",
    "plt.show()"
   ]
  },
  {
   "cell_type": "markdown",
   "metadata": {},
   "source": [
    "From the above heatmap and calculated correlation matrix, we can see that:\n",
    "\n",
    "* correlation between digital spend and sales is 0.66, which is a positive relation\n",
    "* correlation between tv spend and sales is 0.44, which is a moderate positive relation"
   ]
  },
  {
   "cell_type": "markdown",
   "metadata": {},
   "source": [
    "#### Task 4: Fit a regression model to data, using all data points you have available"
   ]
  },
  {
   "cell_type": "markdown",
   "metadata": {},
   "source": [
    "Fitting data to a basic linear regression model and evaluating the performance of the model"
   ]
  },
  {
   "cell_type": "code",
   "execution_count": 27,
   "metadata": {},
   "outputs": [
    {
     "name": "stdout",
     "output_type": "stream",
     "text": [
      "Root Mean Squared Error: 3425036.1561696175\n",
      "R-squared: 0.3771923986090049\n"
     ]
    }
   ],
   "source": [
    "#Import libraries required for model building\n",
    "from sklearn.linear_model import LinearRegression\n",
    "from sklearn.model_selection import train_test_split\n",
    "from sklearn.metrics import mean_squared_error, r2_score\n",
    "\n",
    "# Prepare the data by seperating features and Target\n",
    "X = df[['tv_spend', 'digital_spend']] # Independent variables\n",
    "y = df['sales'] # Dependent variable\n",
    "\n",
    "# Split the data into training and testing sets\n",
    "X_train, X_test, y_train, y_test = train_test_split(X, y, test_size=0.2, random_state=42)\n",
    "\n",
    "#linear regression model\n",
    "model = LinearRegression()\n",
    "\n",
    "# Fit the model\n",
    "model.fit(X_train, y_train)\n",
    "\n",
    "# Predict on the test set\n",
    "y_pred = model.predict(X_test)\n",
    "\n",
    "# Calculate metrics\n",
    "rmse = np.sqrt(mean_squared_error(y_test, y_pred))#Taking square root to obtain Root mean squareed error\n",
    "r2 = r2_score(y_test, y_pred)\n",
    "\n",
    "print('Root Mean Squared Error:', rmse)\n",
    "print('R-squared:', r2)"
   ]
  },
  {
   "cell_type": "markdown",
   "metadata": {},
   "source": [
    "Linear Regression model has been fitted to the data with TV spend and digital spend are the features to predict the target variable Sales. Calculated two popular and common performance metrics, Root mean squared error and R-squared. Results are given below:\n",
    "\n",
    "**Root Mean Squared Error** - 3425036.1561696175\n",
    "\n",
    "**R-squared** - 0.3771923986090049"
   ]
  },
  {
   "cell_type": "markdown",
   "metadata": {},
   "source": [
    "R-squared value indicates that approximately **37.7%** of the variability in Sales can be explained by the TV and Digital investments. In this model, RMSE is quite high which indicates that model might not predict sales accurately."
   ]
  },
  {
   "cell_type": "markdown",
   "metadata": {},
   "source": [
    "#### 4.a Report on the adjusted R-squared"
   ]
  },
  {
   "cell_type": "code",
   "execution_count": 29,
   "metadata": {},
   "outputs": [
    {
     "name": "stdout",
     "output_type": "stream",
     "text": [
      "Adjusted R-squared: -0.24561520278199023\n"
     ]
    }
   ],
   "source": [
    "# Calculate Adjusted R-squared\n",
    "n = len(y_test)  # number of data points in the test set\n",
    "k = X_test.shape[1]  # number of predictors\n",
    "\n",
    "adjusted_r2 = 1 - (1-r2) * (n-1) / (n-k-1)\n",
    "print('Adjusted R-squared:', adjusted_r2)"
   ]
  },
  {
   "cell_type": "markdown",
   "metadata": {},
   "source": [
    "Adjusted R-squared for the above model is negative which indicates that model fails to predict the variability in sales."
   ]
  },
  {
   "cell_type": "markdown",
   "metadata": {},
   "source": [
    "#### 4.b Report the p-value and significance of each regressor"
   ]
  },
  {
   "cell_type": "markdown",
   "metadata": {},
   "source": [
    "##### Fit a multiple linear regression model and calculate the adjusted R-squared of the model using statsmodels"
   ]
  },
  {
   "cell_type": "code",
   "execution_count": 31,
   "metadata": {},
   "outputs": [
    {
     "name": "stdout",
     "output_type": "stream",
     "text": [
      "                            OLS Regression Results                            \n",
      "==============================================================================\n",
      "Dep. Variable:                  sales   R-squared:                       0.673\n",
      "Model:                            OLS   Adj. R-squared:                  0.633\n",
      "Method:                 Least Squares   F-statistic:                     16.49\n",
      "Date:                Fri, 12 Apr 2024   Prob (F-statistic):           0.000130\n",
      "Time:                        11:04:53   Log-Likelihood:                -303.52\n",
      "No. Observations:                  19   AIC:                             613.0\n",
      "Df Residuals:                      16   BIC:                             615.9\n",
      "Df Model:                           2                                         \n",
      "Covariance Type:            nonrobust                                         \n",
      "=================================================================================\n",
      "                    coef    std err          t      P>|t|      [0.025      0.975]\n",
      "---------------------------------------------------------------------------------\n",
      "const          6.981e+06   9.46e+05      7.378      0.000    4.98e+06    8.99e+06\n",
      "tv_spend          1.5940      0.560      2.848      0.012       0.407       2.781\n",
      "digital_spend     4.2608      0.894      4.765      0.000       2.365       6.156\n",
      "==============================================================================\n",
      "Omnibus:                        2.560   Durbin-Watson:                   1.440\n",
      "Prob(Omnibus):                  0.278   Jarque-Bera (JB):                1.837\n",
      "Skew:                           0.750   Prob(JB):                        0.399\n",
      "Kurtosis:                       2.732   Cond. No.                     2.85e+06\n",
      "==============================================================================\n",
      "\n",
      "Warnings:\n",
      "[1] Standard Errors assume that the covariance matrix of the errors is correctly specified.\n",
      "[2] The condition number is large, 2.85e+06. This might indicate that there are\n",
      "strong multicollinearity or other numerical problems.\n"
     ]
    }
   ],
   "source": [
    "import statsmodels.api as sm\n",
    "\n",
    "# Adding a constant to the model for the intercept\n",
    "X_train_sm = sm.add_constant(X_train)\n",
    "\n",
    "# Fit the model using statsmodels\n",
    "model_sm = sm.OLS(y_train, X_train_sm).fit()\n",
    "\n",
    "# Get the summary of the regression\n",
    "print(model_sm.summary())"
   ]
  },
  {
   "cell_type": "markdown",
   "metadata": {},
   "source": [
    "Important findings are described below:\n",
    "\n",
    "**TV Spend:** The coefficient for TV Spend is 1.594 with a p-value of 0.012, indicating that it is statistically significant at the 5% level.\n",
    "\n",
    "**Digital Spend:** The coefficient for Digital Spend is 4.261 with a p-value of 0.000, indicating that it is highly statistically significant.\n",
    "\n",
    "The statsmodel explains about **67.3%** of the variability in Sales, with an **adjusted R-squared** of **63.3%**. This model appears to be a better fit and selected as final model."
   ]
  },
  {
   "cell_type": "markdown",
   "metadata": {},
   "source": [
    "#### Task 5 : Calculate the contribution from TV Spend to sales in % and absolute dollar value"
   ]
  },
  {
   "cell_type": "code",
   "execution_count": 36,
   "metadata": {},
   "outputs": [
    {
     "name": "stdout",
     "output_type": "stream",
     "text": [
      "TV Spend Contribution to Sales in Dollars: 1860729.927538025\n",
      "Percentage Contribution of TV Spend to Sales: 16.644947562722447\n"
     ]
    }
   ],
   "source": [
    "# Calculate the mean values for TV Spend and Sales\n",
    "mean_tv_spend = X_train['tv_spend'].mean()\n",
    "mean_sales = y_train.mean()\n",
    "\n",
    "# Calculate the contribution of TV Spend to Sales\n",
    "contribution_tv = model_sm.params['tv_spend'] * mean_tv_spend\n",
    "\n",
    "# Calculate the percentage contribution of TV Spend to Sales\n",
    "percentage_tv = (contribution_tv / mean_sales) * 100\n",
    "\n",
    "print('TV Spend Contribution to Sales in Dollars:', contribution_tv)\n",
    "print('Percentage Contribution of TV Spend to Sales:', percentage_tv)"
   ]
  },
  {
   "cell_type": "markdown",
   "metadata": {},
   "source": [
    "Contribution from TV Spend to sales are as follows:\n",
    "  \n",
    "**1.**  **Absolute Dollar value**  : $1,860,729.93\n",
    "  \n",
    "**2.**  **Percentage Contriution** : 16.64%\n",
    "\n",
    "This indicates that TV spend contributes 16.64% to the total sales of toys"
   ]
  },
  {
   "cell_type": "markdown",
   "metadata": {},
   "source": [
    "#### Task 6 : Calculate the TV return on investment (ROI)"
   ]
  },
  {
   "cell_type": "markdown",
   "metadata": {},
   "source": [
    "Return on Investment(ROI) is calculated as:\n",
    "    \n",
    "    ROI = (Gain from Investment - Cost of Investment) / Cost of Investment\n",
    "\n",
    "In this data, Gain from investment is same as contribution from TV spend to sales"
   ]
  },
  {
   "cell_type": "code",
   "execution_count": 38,
   "metadata": {},
   "outputs": [
    {
     "name": "stdout",
     "output_type": "stream",
     "text": [
      "TV Return on Investment (ROI): 59.395220991346\n"
     ]
    }
   ],
   "source": [
    "#Calculating ROI\n",
    "roi_tv = (contribution_tv - mean_tv_spend) / mean_tv_spend * 100\n",
    "\n",
    "print('TV Return on Investment (ROI):', roi_tv)"
   ]
  },
  {
   "cell_type": "markdown",
   "metadata": {},
   "source": [
    "The Return on Investment (ROI) for TV Spend is approximately 59.40% and indicates that for every dollar spent on TV advertising, there is a return of about $0.59 above the initial investment."
   ]
  },
  {
   "cell_type": "markdown",
   "metadata": {},
   "source": [
    "#### Task 7 : Using the planned spend values for the first 3 months of 2018 and your regressions model, calculate the expected sales value for the first 3 months of 2018"
   ]
  },
  {
   "cell_type": "code",
   "execution_count": 39,
   "metadata": {},
   "outputs": [
    {
     "name": "stdout",
     "output_type": "stream",
     "text": [
      "Predicted Sales for the first 3 months of 2018: 0    8.455028e+06\n",
      "1    9.134447e+06\n",
      "2    1.083723e+07\n",
      "dtype: float64\n"
     ]
    }
   ],
   "source": [
    "planned_tv_spend = [350000,950000,1350000] \n",
    "planned_digital_spend = [215000, 150000, 400000] \n",
    "\n",
    "#Creating a data frame\n",
    "planned_spend_df = pd.DataFrame({'tv_spend': planned_tv_spend, 'digital_spend': planned_digital_spend})\n",
    "\n",
    "# Adding constant for the intercept\n",
    "planned_spend_df_sm = sm.add_constant(planned_spend_df)\n",
    "\n",
    "#predict sales based on the planned spend\n",
    "predicted_sales = model_sm.predict(planned_spend_df_sm)\n",
    "\n",
    "print('Predicted Sales for the first 3 months of 2018:', predicted_sales)"
   ]
  },
  {
   "cell_type": "markdown",
   "metadata": {},
   "source": [
    "As per the model, predicted sales for the January, February and March of 2018 are as follows:\n",
    "    \n",
    "**January** - $845,028\n",
    "\n",
    "**February** - $9,134,447\n",
    "\n",
    "**March** - $1,083,723"
   ]
  },
  {
   "cell_type": "markdown",
   "metadata": {},
   "source": [
    "#### Task 8 : In your opinion what additional data would improve your model and why?"
   ]
  },
  {
   "cell_type": "markdown",
   "metadata": {},
   "source": [
    "To improve the performance of the above model, following things should be considered:\n",
    "\n",
    "1) **More data** : Data currently have only 25 records which does not provide enough learning cases for the regression model. Adding more data points could improve the performance and predict more accurately.\n",
    "\n",
    "2) **Including additional features**: To predict sales, we can include additional features like marketing through other platforms like Radio, Newspaper, Magazines etc. Inclusion of other features like customer preferences, their age, demogaraphics etc can predict the sales better.\n",
    "    "
   ]
  },
  {
   "cell_type": "markdown",
   "metadata": {},
   "source": [
    "## Thank you"
   ]
  }
 ],
 "metadata": {
  "kernelspec": {
   "display_name": "Python 3",
   "language": "python",
   "name": "python3"
  },
  "language_info": {
   "codemirror_mode": {
    "name": "ipython",
    "version": 3
   },
   "file_extension": ".py",
   "mimetype": "text/x-python",
   "name": "python",
   "nbconvert_exporter": "python",
   "pygments_lexer": "ipython3",
   "version": "3.7.6"
  }
 },
 "nbformat": 4,
 "nbformat_minor": 4
}
